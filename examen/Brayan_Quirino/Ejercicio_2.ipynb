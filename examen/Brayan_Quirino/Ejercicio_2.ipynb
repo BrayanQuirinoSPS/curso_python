{
 "cells": [
  {
   "cell_type": "markdown",
   "metadata": {},
   "source": [
    "# Ejercicio 2 Cotización"
   ]
  },
  {
   "cell_type": "markdown",
   "metadata": {},
   "source": [
    "## Inciso a)"
   ]
  },
  {
   "cell_type": "code",
   "execution_count": 65,
   "metadata": {},
   "outputs": [
    {
     "name": "stdout",
     "output_type": "stream",
     "text": [
      "{'1': {'Nombre': 'ACCIONA', 'Final': '95.95', 'Maximo': '96.75', 'Minimo': '94.4', 'Volumen': '84.962', 'Efectivo': '8166.11\\n'}, '2': {'Nombre': 'ACERINOX', 'Final': '8668', 'Maximo': '8672', 'Minimo': '8468', 'Volumen': '885.99', 'Efectivo': '7633.81\\n'}, '3': {'Nombre': 'ACS', 'Final': '37.28', 'Maximo': '37.66', 'Minimo': '37.22', 'Volumen': '655.982', 'Efectivo': '24517.29\\n'}, '4': {'Nombre': 'AENA', 'Final': '167.1', 'Maximo': '167.5', 'Minimo': '166.1', 'Volumen': '133.738', 'Efectivo': '22336.10\\n'}, '5': {'Nombre': 'AMADEUS', 'Final': '69.96', 'Maximo': '70.64', 'Minimo': '69.56', 'Volumen': '640.476', 'Efectivo': '44795.47\\n'}, '6': {'Nombre': 'ARCELORMIT.', 'Final': '14152', 'Maximo': '14318', 'Minimo': '14.08', 'Volumen': '702.841', 'Efectivo': '9989.65\\n'}, '7': {'Nombre': 'BA.SABADELL', 'Final': '1.0165', 'Maximo': '1033', 'Minimo': '1.0165', 'Volumen': '12.358.512', 'Efectivo': '12637.65\\n'}, '8': {'Nombre': 'BA.SANTANDER', 'Final': '4.02', 'Maximo': '4.0675', 'Minimo': '4.01', 'Volumen': '36.129.692', 'Efectivo': '145765.44\\n'}, '9': {'Nombre': 'BANKIA', 'Final': '2249', 'Maximo': '2262', 'Minimo': '2224', 'Volumen': '3.024.454', 'Efectivo': '6803.54\\n'}, '10': {'Nombre': 'BANKINTER', 'Final': '6.56', 'Maximo': '6604', 'Minimo': '6522', 'Volumen': '1.375.976', 'Efectivo': '9030.20\\n'}, '11': {'Nombre': 'BBVA', 'Final': '5024', 'Maximo': '5.05', 'Minimo': '4969', 'Volumen': '26.447.612', 'Efectivo': '132560.15\\n'}, '12': {'Nombre': 'CAIXABANK', 'Final': '2763', 'Maximo': '2806', 'Minimo': '2762', 'Volumen': '13.031.097', 'Efectivo': '36239.22\\n'}, '13': {'Nombre': 'CELLNEX', 'Final': '30.17', 'Maximo': '30.7', 'Minimo': '30.17', 'Volumen': '857.237', 'Efectivo': '25965.29\\n'}, '14': {'Nombre': 'CIE AUTOMOT.', 'Final': '23.44', 'Maximo': '23.74', 'Minimo': '23.4', 'Volumen': '99.506', 'Efectivo': '2343.09\\n'}, '15': {'Nombre': 'ENAGAS', 'Final': '25.6', 'Maximo': '25.66', 'Minimo': '25.07', 'Volumen': '842.54', 'Efectivo': '21524.77\\n'}, '16': {'Nombre': 'ENCE', 'Final': '3882', 'Maximo': '3974', 'Minimo': '3846', 'Volumen': '2.099.698', 'Efectivo': '8219.83\\n'}, '17': {'Nombre': 'ENDESA', 'Final': '22.95', 'Maximo': '23.03', 'Minimo': '22.62', 'Volumen': '1.236.799', 'Efectivo': '28233.46\\n'}, '18': {'Nombre': 'FERROVIAL', 'Final': '21.61', 'Maximo': '21.72', 'Minimo': '21.38', 'Volumen': '2.065.931', 'Efectivo': '44656.05\\n'}, '19': {'Nombre': 'GRIFOLS CL.A', 'Final': '23.3', 'Maximo': '23.6', 'Minimo': '23.27', 'Volumen': '719.503', 'Efectivo': '16787.55\\n'}, '20': {'Nombre': 'IAG', 'Final': '5.3', 'Maximo': '5.46', 'Minimo': '5292', 'Volumen': '2.155.081', 'Efectivo': '11561.95\\n'}, '21': {'Nombre': 'IBERDROLA', 'Final': '8.45', 'Maximo': '8.45', 'Minimo': '8262', 'Volumen': '15.637.958', 'Efectivo': '131426.05\\n'}, '22': {'Nombre': 'INDITEX', 'Final': '24.93', 'Maximo': '25.19', 'Minimo': '24.87', 'Volumen': '2.600.144', 'Efectivo': '65012.92\\n'}, '23': {'Nombre': 'INDRA A', 'Final': '9.56', 'Maximo': '9685', 'Minimo': '9535', 'Volumen': '392.06', 'Efectivo': '3755.57\\n'}, '24': {'Nombre': 'INM.COLONIAL', 'Final': '9915', 'Maximo': '9915', 'Minimo': '9745', 'Volumen': '671.753', 'Efectivo': '6640.38\\n'}, '25': {'Nombre': 'MAPFRE', 'Final': '2654', 'Maximo': '2654', 'Minimo': '2.62', 'Volumen': '3.045.972', 'Efectivo': '8063.13\\n'}, '26': {'Nombre': 'MEDIASET', 'Final': '6446', 'Maximo': '6592', 'Minimo': '6446', 'Volumen': '2.647.557', 'Efectivo': '17277.04\\n'}, '27': {'Nombre': 'MELIA HOTELS', 'Final': '8.14', 'Maximo': '8.19', 'Minimo': '8.02', 'Volumen': '480.21', 'Efectivo': '3914.93\\n'}, '28': {'Nombre': 'MERLIN', 'Final': '12.08', 'Maximo': '12.08', 'Minimo': '11.83', 'Volumen': '777.543', 'Efectivo': '9357.77\\n'}, '29': {'Nombre': 'NATURGY', 'Final': '26.7', 'Maximo': '26.77', 'Minimo': '26.53', 'Volumen': '2.100.737', 'Efectivo': '55986.54\\n'}, '30': {'Nombre': 'R.E.C.', 'Final': '19705', 'Maximo': '19875', 'Minimo': '19675', 'Volumen': '1.246.171', 'Efectivo': '24585.33\\n'}, '31': {'Nombre': 'REPSOL', 'Final': '14515', 'Maximo': '14605', 'Minimo': '14.46', 'Volumen': '5.046.648', 'Efectivo': '73333.78\\n'}, '32': {'Nombre': 'SIEMENS GAME', 'Final': '14.33', 'Maximo': '14.39', 'Minimo': '14155', 'Volumen': '1.054.847', 'Efectivo': '15084.56\\n'}, '33': {'Nombre': 'TEC.REUNIDAS', 'Final': '23', 'Maximo': '23.2', 'Minimo': '22.78', 'Volumen': '122.1', 'Efectivo': '2807.19\\n'}, '34': {'Nombre': 'TELEFONICA', 'Final': '7204', 'Maximo': '7256', 'Minimo': '7185', 'Volumen': '9.913.249', 'Efectivo': '71564.99\\n'}, '35': {'Nombre': 'VISCOFAN', 'Final': '48.46', 'Maximo': '49.12', 'Minimo': '48.46', 'Volumen': '67.71', 'Efectivo': '3295.43'}}\n"
     ]
    }
   ],
   "source": [
    "import os.path \n",
    "\n",
    "def tablas():\n",
    "    #Verificamos que exista el archivo\n",
    "    if os.path.isfile(f'./cotizacion.csv'):\n",
    "        try:\n",
    "            with open('./cotizacion.csv','r') as cotizacion:\n",
    "                #la variable i sirve es la key sel subdiccionario que contiene los valores de cada fila del csv\n",
    "                i=0;\n",
    "                dic={}\n",
    "                for fila in cotizacion:\n",
    "                    if (i>0):\n",
    "                        #Tupla con los valores de las columnas de cada fila\n",
    "                        (nombrev,finalv,maximov,minimov,volumenv,efectivov)=fila.split(',')\n",
    "                        dic[str(i)]={\n",
    "                            'Nombre':nombrev,\n",
    "                            'Final':finalv,\n",
    "                            'Maximo':maximov,\n",
    "                            'Minimo':minimov,\n",
    "                            'Volumen':volumenv,\n",
    "                            'Efectivo':efectivov\n",
    "                        }\n",
    "                        #print(fila)\n",
    "                    i+=1\n",
    "                return dic\n",
    "        except:\n",
    "            print('No podemos escribir Maestro')\n",
    "        finally:\n",
    "            cotizacion.close()\n",
    "    else:\n",
    "        print('No existe el archivo')\n",
    "\n",
    "\n",
    "    \n",
    "dics=tablas()\n",
    "print(dics)"
   ]
  },
  {
   "cell_type": "markdown",
   "metadata": {},
   "source": [
    "## Inciso b)"
   ]
  },
  {
   "cell_type": "code",
   "execution_count": 67,
   "metadata": {},
   "outputs": [
    {
     "name": "stdout",
     "output_type": "stream",
     "text": [
      "Escrito con éxito\n"
     ]
    }
   ],
   "source": [
    "def escritor():\n",
    "    try:\n",
    "        with open('./media.csv','a') as media:\n",
    "            #Ponemos titulos a las columnas\n",
    "            media.write('Maximo,Minimo,Media\\n')\n",
    "            for dic in dics:\n",
    "                maximo=float(dics[dic]['Maximo'])\n",
    "                minimo=float(dics[dic]['Minimo'])\n",
    "                medias=\"{:.2f}\".format(float((maximo+minimo)/2));\n",
    "                \n",
    "                #Mandamos los datos a dos decimales\n",
    "                media.write(f'{\"{:.2f}\".format(maximo)},{\"{:.2f}\".format(minimo)},{medias}\\n')\n",
    "    except:\n",
    "        print('No podemos escribir Maestro')\n",
    "    finally:\n",
    "        print('Escrito con éxito')\n",
    "        media.close()\n",
    "        \n",
    "escritor()\n"
   ]
  },
  {
   "cell_type": "code",
   "execution_count": null,
   "metadata": {},
   "outputs": [],
   "source": []
  }
 ],
 "metadata": {
  "kernelspec": {
   "display_name": "Python 3",
   "language": "python",
   "name": "python3"
  },
  "language_info": {
   "codemirror_mode": {
    "name": "ipython",
    "version": 3
   },
   "file_extension": ".py",
   "mimetype": "text/x-python",
   "name": "python",
   "nbconvert_exporter": "python",
   "pygments_lexer": "ipython3",
   "version": "3.9.0"
  }
 },
 "nbformat": 4,
 "nbformat_minor": 4
}
