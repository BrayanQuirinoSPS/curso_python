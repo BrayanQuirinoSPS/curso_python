{
 "cells": [
  {
   "cell_type": "markdown",
   "metadata": {},
   "source": [
    "# Ejercicio Extra"
   ]
  },
  {
   "cell_type": "code",
   "execution_count": 72,
   "metadata": {},
   "outputs": [],
   "source": [
    "import xml.etree.ElementTree as ET\n",
    "#Abrimos el archivo, generamos el árbol\n",
    "tree = ET.parse('transaction.xml')\n",
    "root = tree.getroot()"
   ]
  },
  {
   "cell_type": "code",
   "execution_count": 73,
   "metadata": {},
   "outputs": [],
   "source": [
    "#Definimos las listas con las que filtraremos los resultados\n",
    "port=['TST-TDF1', 'TST-TDF2', 'TST-TDF3', 'TST-TDF4', 'TST-TDF5', 'TST-TDF6', 'TSTTDF7', 'TST-TDF8', 'TST-TDF9', 'TST-TDF10']\n",
    "sm_sec=['FUTURE']"
   ]
  },
  {
   "cell_type": "code",
   "execution_count": 74,
   "metadata": {},
   "outputs": [],
   "source": [
    "#Funcion que recibe un 'texto' y verifica que se encuentre en 'lista'\n",
    "def filtro(lista,texto):\n",
    "    try:\n",
    "        lista.index(texto)\n",
    "        #print(f'{texto}')\n",
    "        return True\n",
    "    except:\n",
    "        return False"
   ]
  },
  {
   "cell_type": "code",
   "execution_count": 75,
   "metadata": {},
   "outputs": [
    {
     "name": "stdout",
     "output_type": "stream",
     "text": [
      "El archivo output.xml se encuentra en tu raiz\n"
     ]
    }
   ],
   "source": [
    "for transaction in root.findall('TRADE'):\n",
    "    #Si 'transaction' pasa el filtro se mantiene en el árbol\n",
    "    if(filtro(port,transaction.find('PORTFOLIOS_PORTFOLIO_NAME').text) & \n",
    "       filtro(sm_sec,transaction.find('SM_SEC_GROUP').text)):\n",
    "        #print(transaction)\n",
    "        pass\n",
    "    #Si no, se remueve del árbol\n",
    "    else:\n",
    "        root.remove(transaction)\n",
    "        \n",
    "#Ecribimos un nuevo archivo\n",
    "try:\n",
    "    tree.write('output.xml')\n",
    "    print('El archivo output.xml se encuentra en tu raiz')\n",
    "except:\n",
    "    print('Hubo un problema')"
   ]
  },
  {
   "cell_type": "code",
   "execution_count": null,
   "metadata": {},
   "outputs": [],
   "source": []
  }
 ],
 "metadata": {
  "kernelspec": {
   "display_name": "Python 3",
   "language": "python",
   "name": "python3"
  },
  "language_info": {
   "codemirror_mode": {
    "name": "ipython",
    "version": 3
   },
   "file_extension": ".py",
   "mimetype": "text/x-python",
   "name": "python",
   "nbconvert_exporter": "python",
   "pygments_lexer": "ipython3",
   "version": "3.9.0"
  }
 },
 "nbformat": 4,
 "nbformat_minor": 4
}
