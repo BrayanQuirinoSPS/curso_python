{
 "cells": [
  {
   "cell_type": "markdown",
   "metadata": {},
   "source": [
    "# Ejercicio 3 Inmobiliaria"
   ]
  },
  {
   "cell_type": "code",
   "execution_count": 26,
   "metadata": {},
   "outputs": [],
   "source": [
    "import os.path\n",
    "import ast\n",
    "\n",
    "def tablas():\n",
    "    #Verificamos que exista el archivo\n",
    "    file='inmobiliary_data.py'\n",
    "    if os.path.isfile(f'./{file}'):\n",
    "        try:\n",
    "            with open(f'./{file}','r') as inmo:\n",
    "                #Traemos los valores como literales JAJAJAJ\n",
    "                return ast.literal_eval(inmo.read())\n",
    "        except:\n",
    "            print('No podemos escribir Maestro')\n",
    "        finally:\n",
    "            inmo.close()\n",
    "    else:\n",
    "        print('No existe el archivo')\n",
    "\n",
    "        \n",
    "def dis(data):\n",
    "    file='disponibles.txt'\n",
    "    try:\n",
    "        with open(f'./{file}','w+') as dispo:\n",
    "            for d in data:\n",
    "                dispo.write(f'{str(d)}\\n')\n",
    "    except:\n",
    "        print('No podemos escribir Maestro')\n",
    "    finally:\n",
    "        print(f'El archivo {file} se encuentra en tu raiz')\n",
    "        dispo.close()\n",
    "        \n"
   ]
  },
  {
   "cell_type": "code",
   "execution_count": 27,
   "metadata": {},
   "outputs": [
    {
     "name": "stdout",
     "output_type": "stream",
     "text": [
      "Ingresa tu presupuesto para el infonavit: 94525\n",
      "El archivo disponibles.txt se encuentra en tu raiz\n",
      "[{'ano': 1980, 'metros': 120, 'habitaciones': 4, 'garaje': False, 'zona': 'A', 'precio': 82600}, {'ano': 2015, 'metros': 90, 'habitaciones': 2, 'garaje': False, 'zona': 'A', 'precio': 94000}]\n"
     ]
    }
   ],
   "source": [
    "def disponibilidad(datos,presupuesto):\n",
    "    disponibles=[]\n",
    "    for d in datos:\n",
    "        #Calculamos la antiguedad, igual podriamos instancial un objeto fecha\n",
    "        antiguedad=2021-d['ano']\n",
    "        precio=float('inf')\n",
    "        \n",
    "        #Dependinendo de la zona se calcula diferente\n",
    "        if(d['zona']=='A'):\n",
    "            precio=int((d['metros']*1000+d['habitaciones']*5000+ d['garaje']*15000)*(1-antiguedad/100))\n",
    "        else:\n",
    "            precio=int((d['metros']*1000+d['habitaciones']*5000+ d['garaje']*15000)*(1-antiguedad/100)*1.5)\n",
    "        \n",
    "        #No alteramos el diccinario original\n",
    "        if(precio<=presupuesto):\n",
    "            auxd=d\n",
    "            auxd['precio']=precio\n",
    "            disponibles.append(auxd)\n",
    "    if(len(disponibles)):\n",
    "        dis(disponibles)\n",
    "        return disponibles\n",
    "    else:\n",
    "        return 'No hay propiedades disponibles con ese presupuesto'\n",
    "    \n",
    "pres=input('Ingresa tu presupuesto para el infonavit: ')\n",
    "print(disponibilidad(tablas(),int(pres.split()[0])))"
   ]
  },
  {
   "cell_type": "code",
   "execution_count": null,
   "metadata": {},
   "outputs": [],
   "source": []
  }
 ],
 "metadata": {
  "kernelspec": {
   "display_name": "Python 3",
   "language": "python",
   "name": "python3"
  },
  "language_info": {
   "codemirror_mode": {
    "name": "ipython",
    "version": 3
   },
   "file_extension": ".py",
   "mimetype": "text/x-python",
   "name": "python",
   "nbconvert_exporter": "python",
   "pygments_lexer": "ipython3",
   "version": "3.9.0"
  }
 },
 "nbformat": 4,
 "nbformat_minor": 4
}
