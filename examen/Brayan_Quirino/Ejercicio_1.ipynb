{
 "cells": [
  {
   "cell_type": "markdown",
   "metadata": {},
   "source": [
    "# Ejercicio 1 Función m y n"
   ]
  },
  {
   "cell_type": "code",
   "execution_count": 76,
   "metadata": {},
   "outputs": [
    {
     "name": "stdout",
     "output_type": "stream",
     "text": [
      "Ingresa n y m, separados por un espacio: -3 4\n",
      "Aún no escribirmos la tabla -3\n"
     ]
    }
   ],
   "source": [
    "import os.path\n",
    "\n",
    "#Funcion que abre el archivo tabla-{n} y obtiene la multiplicacion {m}\n",
    "def tablas(file,m):\n",
    "    if os.path.isfile(f'./{file}'):\n",
    "        try:\n",
    "            with open(file,'r') as tabla:\n",
    "                return tabla.read().split('\\n')[m-1]\n",
    "        except:\n",
    "            print('No podemos escribir Maestro')\n",
    "        finally:\n",
    "            tabla.close()\n",
    "    else:\n",
    "        print('Aún no escrbimos esa tabla')\n",
    "        \n",
    "#Funcion que verifica que n sea un archivo existente y que m este en el rango [1,10]\n",
    "def checador(n,m):\n",
    "    try:\n",
    "        [1,2,4,6,7,9,10].index(n)\n",
    "        if(m>=1 and m<=10):\n",
    "            return True\n",
    "        else:\n",
    "            print(f'No tenemos la multiplicacion {m}')\n",
    "            return False\n",
    "    except ValueError:\n",
    "        print(f'Aún no escribirmos la tabla {n}')\n",
    "        \n",
    "#Optenemos los valores        \n",
    "operacion=input('Ingresa n y m, separados por un espacio: ').split()\n",
    "n,m= int(operacion[0]), int(operacion[1])\n",
    "\n",
    "#Si los valores están correctos, mandamos a llamar al archivo n y a la fila m \n",
    "if(checador(n,m)):\n",
    "    print(tablas(f'tabla-{n}.txt',m))"
   ]
  },
  {
   "cell_type": "code",
   "execution_count": null,
   "metadata": {},
   "outputs": [],
   "source": []
  }
 ],
 "metadata": {
  "kernelspec": {
   "display_name": "Python 3",
   "language": "python",
   "name": "python3"
  },
  "language_info": {
   "codemirror_mode": {
    "name": "ipython",
    "version": 3
   },
   "file_extension": ".py",
   "mimetype": "text/x-python",
   "name": "python",
   "nbconvert_exporter": "python",
   "pygments_lexer": "ipython3",
   "version": "3.9.0"
  }
 },
 "nbformat": 4,
 "nbformat_minor": 4
}
