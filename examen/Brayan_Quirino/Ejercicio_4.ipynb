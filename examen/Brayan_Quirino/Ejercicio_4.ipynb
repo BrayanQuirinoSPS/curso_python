{
 "cells": [
  {
   "cell_type": "markdown",
   "metadata": {},
   "source": [
    "# Ejercicio 4 BlacRock"
   ]
  },
  {
   "cell_type": "code",
   "execution_count": 106,
   "metadata": {},
   "outputs": [
    {
     "name": "stdout",
     "output_type": "stream",
     "text": [
      "<class 'pandas.core.frame.DataFrame'>\n",
      "RangeIndex: 25803 entries, 0 to 25802\n",
      "Data columns (total 64 columns):\n",
      " #   Column                     Non-Null Count  Dtype  \n",
      "---  ------                     --------------  -----  \n",
      " 0   FECHA                      25803 non-null  int64  \n",
      " 1   TIPO VALOR                 25803 non-null  object \n",
      " 2   EMISORA                    25803 non-null  object \n",
      " 3   SERIE                      25803 non-null  object \n",
      " 4   PRECIO LIMPIO              25803 non-null  float64\n",
      " 5   PRECIO SUCIO               25803 non-null  float64\n",
      " 6   INTERESES ACUMULADOS       25803 non-null  float64\n",
      " 7   CUPON ACTUAL               25803 non-null  float64\n",
      " 8   SOBRETASA                  25803 non-null  float64\n",
      " 9   NOMBRE COMPLETO            25803 non-null  object \n",
      " 10  SECTOR                     25798 non-null  object \n",
      " 11  MONTO EMITIDO              17718 non-null  object \n",
      " 12  MONTO EN CIRCULACION       17814 non-null  object \n",
      " 13  FECHA EMISION              25238 non-null  object \n",
      " 14  PLAZO EMISION              6041 non-null   float64\n",
      " 15  FECHA VCTO                 12837 non-null  object \n",
      " 16  VALOR NOMINAL              5589 non-null   float64\n",
      " 17  MONEDA EMISION             25754 non-null  object \n",
      " 18  SUBYACENTE                 7248 non-null   object \n",
      " 19  REND. COLOCACION           12238 non-null  object \n",
      " 20  ST COLOCACION              4673 non-null   object \n",
      " 21  FREC. CPN                  4354 non-null   object \n",
      " 22  TASA CUPON                 25803 non-null  float64\n",
      " 23  DIAS TRANSC. CPN           4619 non-null   object \n",
      " 24  REGLA CUPON                4355 non-null   object \n",
      " 25  CUPONES EMISION            4466 non-null   object \n",
      " 26  CUPONES X COBRAR           4466 non-null   object \n",
      " 27  HECHO DE MKT               25230 non-null  object \n",
      " 28  FECHA U.H.                 25230 non-null  object \n",
      " 29  PRECIO TEORICO             9832 non-null   object \n",
      " 30  POST COMPRA                25803 non-null  object \n",
      " 31  POST VENTA                 25803 non-null  object \n",
      " 32  YIELD COMPRA               25803 non-null  object \n",
      " 33  YIELD VENTA                25803 non-null  object \n",
      " 34  SPREAD COMPRA              25803 non-null  object \n",
      " 35  SPREAD VENTA               25803 non-null  object \n",
      " 36  MDYS                       10813 non-null  object \n",
      " 37  S&P                        10804 non-null  object \n",
      " 38  BURSATILIDAD               14803 non-null  object \n",
      " 39  LIQUIDEZ                   5442 non-null   object \n",
      " 40  CAMBIO DIARIO              25292 non-null  object \n",
      " 41  CAMBIO SEMANAL             25292 non-null  object \n",
      " 42  PRECIO MAX 12M             25292 non-null  object \n",
      " 43  PRECIO MIN 12M             25292 non-null  object \n",
      " 44  SUSPENSION                 15649 non-null  object \n",
      " 45  VOLATILIDAD                25559 non-null  object \n",
      " 46  VOLATILIDAD 2              25559 non-null  object \n",
      " 47  DURACION                   25549 non-null  object \n",
      " 48  DURACION MONET.            25549 non-null  object \n",
      " 49  CONVEXIDAD                 25549 non-null  object \n",
      " 50  VAR                        18920 non-null  object \n",
      " 51  DESVIACION STAND           25048 non-null  object \n",
      " 52  VALOR NOMINAL ACTUALIZADO  5589 non-null   float64\n",
      " 53  CALIFICACION FITCH         10802 non-null  object \n",
      " 54  FECHA PRECIO MAXIMO        25048 non-null  object \n",
      " 55  FECHA PRECIO MINIMO        25048 non-null  object \n",
      " 56  SENSIBILIDAD               25549 non-null  object \n",
      " 57  DURACION MACAULAY          25549 non-null  object \n",
      " 58  TASA DE RENDIMIENTO        25803 non-null  float64\n",
      " 59  HR RATINGS                 10181 non-null  object \n",
      " 60  DURACION EFECTIVA          25803 non-null  object \n",
      " 61  ISIN                       18411 non-null  object \n",
      " 62  CALIFICACION VERUM         10192 non-null  object \n",
      " 63  CALIFICACION DBRS          25803 non-null  object \n",
      "dtypes: float64(10), int64(1), object(53)\n",
      "memory usage: 12.6+ MB\n"
     ]
    },
    {
     "name": "stderr",
     "output_type": "stream",
     "text": [
      "c:\\users\\bquna\\appdata\\local\\programs\\python\\python39\\lib\\site-packages\\IPython\\core\\interactiveshell.py:3146: DtypeWarning: Columns (18,25,26,50) have mixed types.Specify dtype option on import or set low_memory=False.\n",
      "  has_raised = await self.run_ast_nodes(code_ast.body, cell_name,\n"
     ]
    }
   ],
   "source": [
    "import pandas as pd\n",
    "\n",
    "\n",
    "#Importamos pandas y vemos que tenemos\n",
    "path='VectorAnalitico24H.csv'\n",
    "df=pd.read_csv(path,encoding='UTF-8')\n",
    "columnas=df.columns.values.tolist()\n",
    "df.info()"
   ]
  },
  {
   "cell_type": "code",
   "execution_count": 108,
   "metadata": {},
   "outputs": [],
   "source": [
    "#Limpiamos los valores nulos o guiones\n",
    "df['FECHA EMISION'] = df['FECHA EMISION'].replace(['-'],'01/01/1998')\n",
    "df['FECHA EMISION'] = df['FECHA EMISION'].fillna('01/01/1998')"
   ]
  },
  {
   "cell_type": "code",
   "execution_count": 109,
   "metadata": {},
   "outputs": [
    {
     "data": {
      "text/plain": [
       "0       1998-01-01\n",
       "1       1998-01-01\n",
       "2       1998-01-01\n",
       "3       1998-01-01\n",
       "4       1998-01-01\n",
       "           ...    \n",
       "25798   2010-02-09\n",
       "25799   2010-03-17\n",
       "25800   2013-09-30\n",
       "25801   2001-01-01\n",
       "25802   2010-03-10\n",
       "Name: FECHA EMISION, Length: 25803, dtype: datetime64[ns]"
      ]
     },
     "execution_count": 109,
     "metadata": {},
     "output_type": "execute_result"
    }
   ],
   "source": [
    "#Convertimos el tipo object a tipo datetime64\n",
    "df['FECHA EMISION'] = pd.to_datetime(df['FECHA EMISION'])\n",
    "df['FECHA EMISION']"
   ]
  },
  {
   "cell_type": "code",
   "execution_count": 92,
   "metadata": {},
   "outputs": [
    {
     "data": {
      "text/plain": [
       "datetime.datetime(2020, 1, 1, 0, 0)"
      ]
     },
     "execution_count": 92,
     "metadata": {},
     "output_type": "execute_result"
    }
   ],
   "source": [
    "#Creamos el año 2020\n",
    "import datetime\n",
    "x = datetime.datetime(2020,1,1)\n",
    "x"
   ]
  },
  {
   "cell_type": "markdown",
   "metadata": {},
   "source": [
    "### Filtramos los valores que queremos - inciso a) b) y c)"
   ]
  },
  {
   "cell_type": "code",
   "execution_count": 110,
   "metadata": {},
   "outputs": [
    {
     "data": {
      "text/plain": [
       "(201, 64)"
      ]
     },
     "execution_count": 110,
     "metadata": {},
     "output_type": "execute_result"
    }
   ],
   "source": [
    "#El campo TIPO VALOR se encuentre en la siguiente lista: FA, FB, FC, FI\n",
    "#El campo SECTOR sea igual a DERIVADOS\n",
    "#La fecha de EMISION debe ser mayor al año 2020\n",
    "\n",
    "df=df.loc[(df['TIPO VALOR'].isin(['FA','FB','FC','FI']) & df['SECTOR'].isin(['DERIVADOS']) & (df['FECHA EMISION'] >= x))]\n",
    "df.shape"
   ]
  },
  {
   "cell_type": "code",
   "execution_count": 111,
   "metadata": {},
   "outputs": [
    {
     "data": {
      "text/html": [
       "<div>\n",
       "<style scoped>\n",
       "    .dataframe tbody tr th:only-of-type {\n",
       "        vertical-align: middle;\n",
       "    }\n",
       "\n",
       "    .dataframe tbody tr th {\n",
       "        vertical-align: top;\n",
       "    }\n",
       "\n",
       "    .dataframe thead th {\n",
       "        text-align: right;\n",
       "    }\n",
       "</style>\n",
       "<table border=\"1\" class=\"dataframe\">\n",
       "  <thead>\n",
       "    <tr style=\"text-align: right;\">\n",
       "      <th></th>\n",
       "      <th>TICKER</th>\n",
       "      <th>PRECIO</th>\n",
       "      <th>MONEDA</th>\n",
       "      <th>VAR</th>\n",
       "    </tr>\n",
       "  </thead>\n",
       "  <tbody>\n",
       "    <tr>\n",
       "      <th>17499</th>\n",
       "      <td>FA_ALF_MR21</td>\n",
       "      <td>14.14</td>\n",
       "      <td>[MPS] Peso Mexicano (MXN)</td>\n",
       "      <td>-55.437676</td>\n",
       "    </tr>\n",
       "    <tr>\n",
       "      <th>17501</th>\n",
       "      <td>FA_ASA_DC20</td>\n",
       "      <td>25.91</td>\n",
       "      <td>[MPS] Peso Mexicano (MXN)</td>\n",
       "      <td>-100.162641</td>\n",
       "    </tr>\n",
       "    <tr>\n",
       "      <th>17502</th>\n",
       "      <td>FA_ASA_JN20</td>\n",
       "      <td>25.26</td>\n",
       "      <td>[MPS] Peso Mexicano (MXN)</td>\n",
       "      <td>-97.480128</td>\n",
       "    </tr>\n",
       "    <tr>\n",
       "      <th>17503</th>\n",
       "      <td>FA_ASA_MR21</td>\n",
       "      <td>26.20</td>\n",
       "      <td>[MPS] Peso Mexicano (MXN)</td>\n",
       "      <td>-101.551204</td>\n",
       "    </tr>\n",
       "    <tr>\n",
       "      <th>17504</th>\n",
       "      <td>FA_ASA_SP20</td>\n",
       "      <td>25.60</td>\n",
       "      <td>[MPS] Peso Mexicano (MXN)</td>\n",
       "      <td>-98.79245</td>\n",
       "    </tr>\n",
       "  </tbody>\n",
       "</table>\n",
       "</div>"
      ],
      "text/plain": [
       "            TICKER  PRECIO                     MONEDA          VAR\n",
       "17499  FA_ALF_MR21   14.14  [MPS] Peso Mexicano (MXN)   -55.437676\n",
       "17501  FA_ASA_DC20   25.91  [MPS] Peso Mexicano (MXN)  -100.162641\n",
       "17502  FA_ASA_JN20   25.26  [MPS] Peso Mexicano (MXN)   -97.480128\n",
       "17503  FA_ASA_MR21   26.20  [MPS] Peso Mexicano (MXN)  -101.551204\n",
       "17504  FA_ASA_SP20   25.60  [MPS] Peso Mexicano (MXN)    -98.79245"
      ]
     },
     "execution_count": 111,
     "metadata": {},
     "output_type": "execute_result"
    }
   ],
   "source": [
    "#Concatenamos los valores de TIPO VALOR EMISORA Y SERIE\n",
    "df['TICKER']=df['TIPO VALOR']+ '_' +df['EMISORA']+ '_'+ df['SERIE']\n",
    "\n",
    "#Creamos un nuevo dataFrame 'dfn' con las columnas dichas y a dfn le cambiamos el nombre de las columnas\n",
    "dfn=df[['TICKER','PRECIO LIMPIO','MONEDA EMISION','VAR']]\n",
    "dfn.columns=['TICKER','PRECIO','MONEDA','VAR']\n",
    "dfn.head()"
   ]
  },
  {
   "cell_type": "code",
   "execution_count": 112,
   "metadata": {},
   "outputs": [
    {
     "name": "stdout",
     "output_type": "stream",
     "text": [
      "Escrito con éxito!\n"
     ]
    }
   ],
   "source": [
    "hoy = datetime.datetime.now()\n",
    "#Creamos el archivo con el nombre del día de hoy\n",
    "try:\n",
    "    dfn.to_csv(f'Precios_PIP_{str(hoy.year)}{str(hoy.month)}{str(hoy.day)}.csv',index=False)\n",
    "    print('Escrito con éxito!')\n",
    "except:\n",
    "    print('No pudimos escribir master')"
   ]
  },
  {
   "cell_type": "code",
   "execution_count": null,
   "metadata": {},
   "outputs": [],
   "source": []
  },
  {
   "cell_type": "code",
   "execution_count": null,
   "metadata": {},
   "outputs": [],
   "source": []
  }
 ],
 "metadata": {
  "kernelspec": {
   "display_name": "Python 3",
   "language": "python",
   "name": "python3"
  },
  "language_info": {
   "codemirror_mode": {
    "name": "ipython",
    "version": 3
   },
   "file_extension": ".py",
   "mimetype": "text/x-python",
   "name": "python",
   "nbconvert_exporter": "python",
   "pygments_lexer": "ipython3",
   "version": "3.9.0"
  }
 },
 "nbformat": 4,
 "nbformat_minor": 4
}
